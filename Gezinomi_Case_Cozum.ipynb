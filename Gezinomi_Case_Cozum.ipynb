{
 "cells": [
  {
   "cell_type": "code",
   "execution_count": 1,
   "id": "c6813fa0",
   "metadata": {},
   "outputs": [
    {
     "name": "stderr",
     "output_type": "stream",
     "text": [
      "C:\\Users\\gurek\\anaconda3\\lib\\site-packages\\scipy\\__init__.py:146: UserWarning: A NumPy version >=1.16.5 and <1.23.0 is required for this version of SciPy (detected version 1.26.3\n",
      "  warnings.warn(f\"A NumPy version >={np_minversion} and <{np_maxversion}\"\n"
     ]
    }
   ],
   "source": [
    "import pandas as pd  # Pandas kütüphanesini içe aktar\n",
    "import numpy as np  # Numpy kütüphanesini içe aktar\n",
    "import datetime as dt  # Datetime modülünü içe aktar\n",
    "from sklearn.model_selection import train_test_split  # Veriyi bölmek için train_test_split fonksiyonunu içe aktar\n",
    "from sklearn.linear_model import LinearRegression  # Doğrusal Regresyon modelini içe aktar\n",
    "from sklearn.metrics import mean_absolute_error, mean_squared_error, r2_score  # Ortalama mutlak hata, ortalama karesel hata ve R-kare metriklerini içe aktar\n",
    "from sklearn.decomposition import PCA  # PCA (Principal Component Analysis) modülünü içe aktar\n",
    "from sklearn.preprocessing import StandardScaler  # Veriyi standartlaştırmak için StandardScaler'ı içe aktar"
   ]
  },
  {
   "cell_type": "markdown",
   "id": "8f728769",
   "metadata": {},
   "source": [
    "- `import pandas as pd`: Pandas kütüphanesini içe aktarır ve bu kütüphaneyle ilgili fonksiyonları `pd` adıyla kullanılabilir hale getirir.\n",
    "- `import numpy as np`: Numpy kütüphanesini içe aktarır ve bu kütüphaneyle ilgili fonksiyonları `np` adıyla kullanılabilir hale getirir.\n",
    "- `import datetime as dt`: Datetime modülünü içe aktarır ve bu modülle ilgili fonksiyonları `dt` adıyla kullanılabilir hale getirir.\n",
    "- `from sklearn.model_selection import train_test_split`: Veriyi eğitim ve test kümelerine bölmek için `train_test_split` fonksiyonunu içe aktarır.\n",
    "- `from sklearn.linear_model import LinearRegression`: Doğrusal Regresyon modelini içe aktarır.\n",
    "- `from sklearn.metrics import mean_absolute_error, mean_squared_error, r2_score`: Ortalama mutlak hata, ortalama karesel hata ve R-kare gibi metrikleri içe aktarır.\n",
    "- `from sklearn.decomposition import PCA`: PCA (Principal Component Analysis - Temel Bileşen Analizi) modülünü içe aktarır.\n",
    "- `from sklearn.preprocessing import StandardScaler`: Veriyi standartlaştırmak için `StandardScaler`'ı içe aktarır."
   ]
  },
  {
   "cell_type": "code",
   "execution_count": 2,
   "id": "bc9592ee",
   "metadata": {},
   "outputs": [],
   "source": [
    "# Excel dosyasından veriyi yükle\n",
    "df = pd.read_excel(\"miuul_gezinomi.xlsx\")"
   ]
  },
  {
   "cell_type": "markdown",
   "id": "e520d04b",
   "metadata": {},
   "source": [
    "- `df = pd.read_excel(\"miuul_gezinomi.xlsx\")`: Excel dosyasından veriyi `pd.read_excel()` fonksiyonuyla yükler ve `df` adlı bir DataFrame'e atar."
   ]
  },
  {
   "cell_type": "code",
   "execution_count": 3,
   "id": "759c059d",
   "metadata": {},
   "outputs": [],
   "source": [
    "def explore_data(data):\n",
    "    # Veri setinin ilk birkaç satırını görüntüler\n",
    "    print(\"İlk 5 gözlem:\")\n",
    "    print(data.head())\n",
    "    print(\"\\n\")\n",
    "    \n",
    "    # Veri seti hakkında temel bilgileri sağlar\n",
    "    print(\"Veri seti bilgileri:\")\n",
    "    print(data.info())\n",
    "    print(\"\\n\")\n",
    "    \n",
    "    # Boş gözlemleri kontrol eder\n",
    "    print(\"Boş gözlemler:\")\n",
    "    print(data.isnull().sum())\n",
    "    print(\"\\n\")\n",
    "    \n",
    "    # Sayısal sütunlar için temel istatistiksel bilgileri sağlar\n",
    "    print(\"Sayısal sütunlar için temel istatistikler:\")\n",
    "    print(data.describe())\n",
    "    print(\"\\n\")\n",
    "    \n",
    "    # Veri setinin boyutunu (satır ve sütun sayısı) verir\n",
    "    print(\"Veri setinin boyutu:\")\n",
    "    print(data.shape)\n",
    "    print(\"\\n\")\n",
    "    \n",
    "    # Veri setinin sütun adlarını listeler\n",
    "    print(\"Değişken adları:\")\n",
    "    print(data.columns)\n",
    "    print(\"\\n\")\n",
    "    \n",
    "    # Sütunların veri tiplerini gösterir\n",
    "    print(\"Değişken veri tipleri:\")\n",
    "    print(data.dtypes)"
   ]
  },
  {
   "cell_type": "markdown",
   "id": "c60ec042",
   "metadata": {},
   "source": [
    "- `def explore_data(data):`: `explore_data` adında bir fonksiyon tanımlar. Bu fonksiyon, bir DataFrame alır ve içinde bulunan fonksiyonları kullanarak veri keşfi yapar.\n",
    "- `print(data.head())`: Veri setinin ilk beş satırını görüntüler.\n",
    "- `print(data.info())`: Veri seti hakkında genel bilgileri sağlar: sütun adları, sütun sayıları, non-null değerlerin sayısı ve veri tipleri gibi.\n",
    "- `print(data.isnull().sum())`: Veri setindeki boş değerleri kontrol eder ve her sütundaki boş değerlerin sayısını gösterir.\n",
    "- `print(data.describe())`: Sayısal sütunlar için temel istatistiksel bilgileri (count, mean, std, min, 25%, 50%, 75% ve max) gösterir.\n",
    "- `print(data.shape)`: Veri setinin boyutunu (satır ve sütun sayısı) gösterir.\n",
    "- `print(data.columns)`: Veri setinin sütun adlarını listeler.\n",
    "- `print(data.dtypes)`: Sütunların veri tiplerini gösterir."
   ]
  },
  {
   "cell_type": "code",
   "execution_count": 4,
   "id": "e505f7bb",
   "metadata": {},
   "outputs": [
    {
     "name": "stdout",
     "output_type": "stream",
     "text": [
      "İlk 5 gözlem:\n",
      "   SaleId   SaleDate CheckInDate       Price     ConceptName SaleCityName  \\\n",
      "0  415122 2022-12-03  2022-12-03   79.304029    Herşey Dahil      Antalya   \n",
      "1  415103 2022-12-03  2022-12-03   45.970696  Yarım Pansiyon      Antalya   \n",
      "2  404034 2022-09-12  2022-09-13   77.838828    Herşey Dahil      Antalya   \n",
      "3  415094 2022-12-03  2022-12-10  222.710623  Yarım Pansiyon        İzmir   \n",
      "4  414951 2022-12-01  2022-12-03  140.476190  Yarım Pansiyon        İzmir   \n",
      "\n",
      "     CInDay  SaleCheckInDayDiff Seasons  \n",
      "0  Saturday                   0     Low  \n",
      "1  Saturday                   0     Low  \n",
      "2   Tuesday                   1    High  \n",
      "3  Saturday                   7     Low  \n",
      "4  Saturday                   2     Low  \n",
      "\n",
      "\n",
      "Veri seti bilgileri:\n",
      "<class 'pandas.core.frame.DataFrame'>\n",
      "RangeIndex: 59164 entries, 0 to 59163\n",
      "Data columns (total 9 columns):\n",
      " #   Column              Non-Null Count  Dtype         \n",
      "---  ------              --------------  -----         \n",
      " 0   SaleId              59164 non-null  int64         \n",
      " 1   SaleDate            59164 non-null  datetime64[ns]\n",
      " 2   CheckInDate         59164 non-null  datetime64[ns]\n",
      " 3   Price               59151 non-null  float64       \n",
      " 4   ConceptName         59164 non-null  object        \n",
      " 5   SaleCityName        59164 non-null  object        \n",
      " 6   CInDay              59164 non-null  object        \n",
      " 7   SaleCheckInDayDiff  59164 non-null  int64         \n",
      " 8   Seasons             59164 non-null  object        \n",
      "dtypes: datetime64[ns](2), float64(1), int64(2), object(4)\n",
      "memory usage: 4.1+ MB\n",
      "None\n",
      "\n",
      "\n",
      "Boş gözlemler:\n",
      "SaleId                 0\n",
      "SaleDate               0\n",
      "CheckInDate            0\n",
      "Price                 13\n",
      "ConceptName            0\n",
      "SaleCityName           0\n",
      "CInDay                 0\n",
      "SaleCheckInDayDiff     0\n",
      "Seasons                0\n",
      "dtype: int64\n",
      "\n",
      "\n",
      "Sayısal sütunlar için temel istatistikler:\n",
      "              SaleId         Price  SaleCheckInDayDiff\n",
      "count   59164.000000  59151.000000        59164.000000\n",
      "mean   302675.795433     61.345057           31.840173\n",
      "std     87943.222683     51.384617           51.493509\n",
      "min     51707.000000      0.000000            0.000000\n",
      "25%    274038.500000     35.343035            2.000000\n",
      "50%    321607.000000     54.261294           10.000000\n",
      "75%    367373.000000     77.962578           34.000000\n",
      "max    415122.000000   4880.471380          630.000000\n",
      "\n",
      "\n",
      "Veri setinin boyutu:\n",
      "(59164, 9)\n",
      "\n",
      "\n",
      "Değişken adları:\n",
      "Index(['SaleId', 'SaleDate', 'CheckInDate', 'Price', 'ConceptName',\n",
      "       'SaleCityName', 'CInDay', 'SaleCheckInDayDiff', 'Seasons'],\n",
      "      dtype='object')\n",
      "\n",
      "\n",
      "Değişken veri tipleri:\n",
      "SaleId                         int64\n",
      "SaleDate              datetime64[ns]\n",
      "CheckInDate           datetime64[ns]\n",
      "Price                        float64\n",
      "ConceptName                   object\n",
      "SaleCityName                  object\n",
      "CInDay                        object\n",
      "SaleCheckInDayDiff             int64\n",
      "Seasons                       object\n",
      "dtype: object\n"
     ]
    }
   ],
   "source": [
    "explore_data(df)"
   ]
  },
  {
   "cell_type": "code",
   "execution_count": null,
   "id": "600e39aa",
   "metadata": {},
   "outputs": [],
   "source": [
    "# Eksik değerlere sahip satırları sil\n",
    "df.dropna(inplace=True)"
   ]
  },
  {
   "cell_type": "markdown",
   "id": "610475f0",
   "metadata": {},
   "source": [
    "- `df.dropna(inplace=True)`: `dropna()` yöntemiyle DataFrame içerisindeki eksik değerlere (NaN) sahip satırları siler. `inplace=True` parametresi, işlemin DataFrame üzerinde gerçekleştirilmesini sağlar."
   ]
  },
  {
   "cell_type": "code",
   "execution_count": null,
   "id": "4d66a3f1",
   "metadata": {},
   "outputs": [],
   "source": [
    "# CheckInDate'den özellikler çıkarma\n",
    "df['CheckInYear'] = df['CheckInDate'].dt.year\n",
    "df['CheckInMonth'] = df['CheckInDate'].dt.month\n",
    "df['CheckInDay'] = df['CheckInDate'].dt.day\n",
    "df['CheckInWeekday'] = df['CheckInDate'].dt.dayofweek\n",
    "\n",
    "# Günün hafta sonu olup olmadığını kontrol et\n",
    "df['IsWeekend'] = np.where(df['CheckInWeekday'] >= 5, 1, 0)\n",
    "\n",
    "# Tatil tarihlerini tanımlama\n",
    "holiday_types = {\n",
    "    \"Yılbaşı\": [\"2016-01-01\", \"2017-01-01\", \"2018-01-01\", \"2019-01-01\", \"2020-01-01\", \"2021-01-01\", \"2022-01-01\"],\n",
    "    \"Ulusal Egemenlik ve Çocuk Bayramı\": [\"2016-04-23\", \"2017-04-23\", \"2018-04-23\", \"2019-04-23\", \"2020-04-23\", \"2021-04-23\", \"2022-04-23\"],\n",
    "    \"Emek ve Dayanışma Günü\": [\"2016-05-01\", \"2017-05-01\", \"2018-05-01\", \"2019-05-01\", \"2020-05-01\", \"2021-05-01\", \"2022-05-01\"],\n",
    "    \"Atatürk'ü Anma, Gençlik ve Spor Bayramı\": [\"2016-05-19\", \"2017-05-19\", \"2018-05-19\", \"2019-05-19\", \"2020-05-19\", \"2021-05-19\", \"2022-05-19\"],\n",
    "    \"Ramazan Bayramı\": [(\"2016-07-15\", \"2016-07-16\", \"2016-07-17\"),\n",
    "                        (\"2017-06-25\", \"2017-06-26\", \"2017-06-27\"),\n",
    "                        (\"2018-06-15\", \"2018-06-16\", \"2018-06-17\"),\n",
    "                        (\"2019-06-04\", \"2019-06-05\", \"2019-06-06\"),\n",
    "                        (\"2020-05-23\", \"2020-05-24\", \"2020-05-25\"),\n",
    "                        (\"2021-05-13\", \"2021-05-14\", \"2021-05-15\"),\n",
    "                        (\"2022-05-02\", \"2022-05-03\", \"2022-05-04\")],\n",
    "    \"Zafer Bayramı\": [\"2016-08-30\", \"2017-08-30\", \"2018-08-30\", \"2019-08-30\", \"2020-08-30\", \"2021-08-30\", \"2022-08-30\"],\n",
    "    \"Kurban Bayramı\": [(\"2016-09-11\", \"2016-09-12\", \"2016-09-13\", \"2016-09-14\", \"2016-09-15\"),\n",
    "                       (\"2017-08-30\", \"2017-08-31\", \"2017-09-01\", \"2017-09-02\", \"2017-09-03\"),\n",
    "                       (\"2018-08-21\", \"2018-08-22\", \"2018-08-23\", \"2018-08-24\", \"2018-08-25\"),\n",
    "                       (\"2019-08-11\", \"2019-08-12\", \"2019-08-13\", \"2019-08-14\", \"2019-08-15\"),\n",
    "                       (\"2020-07-31\", \"2020-08-01\", \"2020-08-02\", \"2020-08-03\", \"2020-08-04\"),\n",
    "                       (\"2021-07-20\", \"2021-07-21\", \"2021-07-22\", \"2021-07-23\", \"2021-07-24\"),\n",
    "                       (\"2022-07-09\", \"2022-07-10\", \"2022-07-11\", \"2022-07-12\", \"2022-07-13\")],\n",
    "    \"Cumhuriyet Bayramı\": [\"2016-10-29\", \"2017-10-29\", \"2018-10-29\", \"2019-10-29\", \"2020-10-29\", \"2021-10-29\", \"2022-10-29\"]\n",
    "}\n",
    "\n",
    "# Veri kümesindeki tatilleri işaretleme\n",
    "df['HolidayType'] = 'Weekday'\n",
    "for holiday, dates in holiday_types.items():\n",
    "    for date_range in dates:\n",
    "        if isinstance(date_range, tuple):\n",
    "            for date in date_range:\n",
    "                df.loc[df['CheckInDate'] == date, 'HolidayType'] = holiday\n",
    "        else:\n",
    "            df.loc[df['CheckInDate'] == date_range, 'HolidayType'] = holiday"
   ]
  },
  {
   "cell_type": "markdown",
   "id": "cd742e9a",
   "metadata": {},
   "source": [
    "- `df['CheckInYear'] = df['CheckInDate'].dt.year`: `CheckInDate` sütunundan yıl bilgisini alarak yeni bir `CheckInYear` sütunu oluşturur.\n",
    "- `df['CheckInMonth'] = df['CheckInDate'].dt.month`: `CheckInDate` sütunundan ay bilgisini alarak yeni bir `CheckInMonth` sütunu oluşturur.\n",
    "- `df['CheckInDay'] = df['CheckInDate'].dt.day`: `CheckInDate` sütunundan gün bilgisini alarak yeni bir `CheckInDay` sütunu oluşturur.\n",
    "- `df['CheckInWeekday'] = df['CheckInDate'].dt.dayofweek`: `CheckInDate` sütunundan haftanın hangi günü olduğunu (0: Pazartesi, 1: Salı, ..., 6: Pazar) belirleyerek yeni bir `CheckInWeekday` sütunu oluşturur.\n",
    "- `df['IsWeekend'] = np.where(df['CheckInWeekday'] >= 5, 1, 0)`: `CheckInWeekday` sütunundan elde edilen bilgiye göre, günün hafta sonu olup olmadığını belirleyerek yeni bir `IsWeekend` sütunu oluşturur.\n",
    "- `holiday_types` sözlüğü: Tatil adlarına karşılık gelen ve o tatillere ait tarihleri içeren bir sözlük.\n",
    "- Tatil tarihlerini işaretleme: Veri setindeki tatil tarihlerini `HolidayType` sütunu aracılığıyla işaretler. Her tatil için belirtilen tarih(ler)e göre ilgili satırları günceller."
   ]
  },
  {
   "cell_type": "code",
   "execution_count": null,
   "id": "0eadb73a",
   "metadata": {},
   "outputs": [],
   "source": [
    "# Müşteri türü için aralıkları tanımla\n",
    "bins = [-1, 7, 30, 90, df['SaleCheckInDayDiff'].max()]\n",
    "\n",
    "# Müşteri türleri için etiketleri tanımla\n",
    "labels = ['Son Dakika Rezervasyoncuları', 'Potansiyel Planlayıcılar', 'Planlayıcılar', 'Erken Rezervasyon Yapanlar']\n",
    "\n",
    "# Rezervasyon günlerine göre müşterileri kategorize et\n",
    "df['CustomerType'] = pd.cut(df['SaleCheckInDayDiff'], bins=bins, labels=labels)"
   ]
  },
  {
   "cell_type": "markdown",
   "id": "6e7ad042",
   "metadata": {},
   "source": [
    "- `bins = [-1, 7, 30, 90, df['SaleCheckInDayDiff'].max()]`: Müşteri türlerini tanımlamak için rezervasyon yapılan günler arasında kesme noktalarını belirler. Bu aralıkların sonuncusu, en büyük rezervasyon gün farkını içerir.\n",
    "- `labels = ['Son Dakika Rezervasyoncuları', 'Potansiyel Planlayıcılar', 'Planlayıcılar', 'Erken Rezervasyon Yapanlar']`: Müşteri türleri için etiketleri belirler.\n",
    "- `df['CustomerType'] = pd.cut(df['SaleCheckInDayDiff'], bins=bins, labels=labels)`: Rezervasyon yapılan gün sayısına göre müşterileri kategorize eder."
   ]
  },
  {
   "cell_type": "code",
   "execution_count": null,
   "id": "be1124bb",
   "metadata": {},
   "outputs": [],
   "source": [
    "# Kategorik özellikleri one-hot encode et\n",
    "df = pd.get_dummies(df, columns=['ConceptName', 'SaleCityName', 'CInDay', 'Seasons', 'HolidayType', 'CustomerType'])"
   ]
  },
  {
   "cell_type": "markdown",
   "id": "a97c5143",
   "metadata": {},
   "source": [
    "- `df = pd.get_dummies(df, columns=['ConceptName', 'SaleCityName', 'CInDay', 'Seasons', 'HolidayType', 'CustomerType'])`: Kategorik değişkenleri one-hot encode eder."
   ]
  },
  {
   "cell_type": "code",
   "execution_count": null,
   "id": "4c7d7040",
   "metadata": {},
   "outputs": [],
   "source": [
    "# Özellikleri ve hedef değişkeni hazırla\n",
    "X = df.drop(['Price', 'SaleId', 'SaleDate', 'CheckInDate'], axis=1)\n",
    "y = df['Price']"
   ]
  },
  {
   "cell_type": "markdown",
   "id": "6b1a0a2a",
   "metadata": {},
   "source": [
    "- `X = df.drop(['Price', 'SaleId', 'SaleDate', 'CheckInDate'], axis=1)`: Bağımsız değişkenlerin ve hedef değişkenin oluşturulması.\n",
    "- `y = df['Price']`: Bağımlı değişkenin belirlenmesi."
   ]
  },
  {
   "cell_type": "code",
   "execution_count": null,
   "id": "061c63ac",
   "metadata": {},
   "outputs": [],
   "source": [
    "# PCA model oluşturma\n",
    "pca = PCA(n_components=5)\n",
    "\n",
    "# Modeli fit etme\n",
    "X_new = pca.fit_transform(X)\n",
    "\n",
    "# Düşük boyutlu temsil edilen veriyi DataFrame'e dönüştürme\n",
    "X_dimensional_reduced = pd.DataFrame(X_new)"
   ]
  },
  {
   "cell_type": "markdown",
   "id": "2d9ecfa0",
   "metadata": {},
   "source": [
    "- `pca = PCA(n_components=5)`: PCA (Principal Component Analysis) modelinin oluşturulması, bu durumda beş bileşen kullanılacak.\n",
    "- `X_new = pca.fit_transform(X)`: PCA modelinin veriye uygulanması ve boyut indirgeme işleminin gerçekleştirilmesi.\n",
    "- `X_dimensional_reduced = pd.DataFrame(X_new)`: Düşük boyutlu temsil edilen veriyi DataFrame'e dönüştürme."
   ]
  },
  {
   "cell_type": "code",
   "execution_count": null,
   "id": "4a3509d1",
   "metadata": {},
   "outputs": [],
   "source": [
    "# Veriyi eğitim ve test kümelerine ayırma\n",
    "X_train, X_test, y_train, y_test = train_test_split(X_dimensional_reduced, y, test_size=0.2, random_state=42)\n",
    "\n",
    "# Modeli başlatma ve eğitme\n",
    "model = LinearRegression()\n",
    "model.fit(X_train, y_train)"
   ]
  },
  {
   "cell_type": "markdown",
   "id": "6a96ed17",
   "metadata": {},
   "source": [
    "- `X_train, X_test, y_train, y_test = train_test_split(X_dimensional_reduced, y, test_size=0.2, random_state=42)`: Veri kümesinin eğitim ve test kümelerine ayrılması.\n",
    "- `model = LinearRegression()`: Doğrusal regresyon modelinin başlatılması.\n",
    "- `model.fit(X_train, y_train)`: Modelin eğitilmesi."
   ]
  },
  {
   "cell_type": "code",
   "execution_count": null,
   "id": "3b4e276c",
   "metadata": {},
   "outputs": [],
   "source": [
    "# beta_0 = intercept \n",
    "print('beta_0 =', model.intercept_)\n",
    "# beta_i = coefficients\n",
    "for i, beta in enumerate(model.coef_):\n",
    "    print(f'beta_{i+1} = {beta}')"
   ]
  },
  {
   "cell_type": "markdown",
   "id": "e9816df9",
   "metadata": {},
   "source": [
    "- `print('beta_0 =', model.intercept_)`: Modelin kesme noktasını (beta_0 veya intercept) yazdırır.\n",
    "- `for i, beta in enumerate(model.coef_): print(f'beta_{i+1} = {beta}')`: Modelin katsayılarını (beta_i veya coefficients) yazdırır. `enumerate()` fonksiyonu ile her bir katsayıya bir indeks atanır ve bu katsayılar sırayla yazdırılır."
   ]
  },
  {
   "cell_type": "code",
   "execution_count": null,
   "id": "249ae5bc",
   "metadata": {},
   "outputs": [],
   "source": [
    "# Tahminler yapma\n",
    "y_pred = model.predict(X_test)"
   ]
  },
  {
   "cell_type": "markdown",
   "id": "352e8886",
   "metadata": {},
   "source": [
    "- `y_pred = model.predict(X_test)`: Test veri kümesi üzerinde tahminler yapar."
   ]
  },
  {
   "cell_type": "code",
   "execution_count": null,
   "id": "81f515a3",
   "metadata": {},
   "outputs": [],
   "source": [
    "# Değerlendirme metriklerini yazdırma\n",
    "print(\"Mean Squared Error:\", mean_squared_error(y_test, y_pred))\n",
    "print(\"Mean Absolute Error:\", mean_absolute_error(y_test, y_pred))\n",
    "print(\"R^2 Score:\", r2_score(y_test, y_pred))"
   ]
  },
  {
   "cell_type": "markdown",
   "id": "7cce5201",
   "metadata": {},
   "source": [
    "- `print(\"Mean Squared Error:\", mean_squared_error(y_test, y_pred))`: Tahminlerin gerçek değerlerden ne kadar sapma gösterdiğini gösteren ortalama karesel hata (Mean Squared Error) değerini yazdırır.\n",
    "- `print(\"Mean Absolute Error:\", mean_absolute_error(y_test, y_pred))`: Tahminlerin gerçek değerlerden ne kadar sapma gösterdiğini gösteren ortalama mutlak hata (Mean Absolute Error) değerini yazdırır.\n",
    "- `print(\"R^2 Score:\", r2_score(y_test, y_pred))`: Modelin ne kadar iyi açıkladığını gösteren R-kare (R^2 Score) değerini yazdırır. Bu değer ne kadar yüksek olursa, modelin veriyi o kadar iyi açıkladığı kabul edilir."
   ]
  },
  {
   "cell_type": "code",
   "execution_count": null,
   "id": "8b692c7d",
   "metadata": {},
   "outputs": [],
   "source": [
    "def en_kucuk_kareler_yontemi(X, Y):\n",
    "    X = np.column_stack((np.ones(len(X)), X))  # Sabit terim için X matrisine bir sütun ekler\n",
    "    beta = np.linalg.inv(X.T @ X) @ X.T @ Y    # Beta katsayılarını hesaplar\n",
    "    return beta\n",
    "\n",
    "X_dimensional_reduced = X_dimensional_reduced.astype(float)\n",
    "\n",
    "# DataFrame'i NumPy dizisine dönüştürme\n",
    "X_array = X_dimensional_reduced.values\n",
    "y_array = y.values\n",
    "\n",
    "# En küçük kareler yöntemini uygula\n",
    "beta = en_kucuk_kareler_yontemi(X_array, y_array)\n",
    "\n",
    "# Hesaplanan beta katsayılarını yazdır\n",
    "for i, coef in enumerate(beta):\n",
    "    print(f'beta_{i} = {coef}')"
   ]
  },
  {
   "cell_type": "markdown",
   "id": "92d86222",
   "metadata": {},
   "source": [
    "- `def en_kucuk_kareler_yontemi(X, Y)`: En küçük kareler yöntemini uygulayan bir fonksiyon tanımlanır. Bu fonksiyon, X ve Y parametrelerini alır.\n",
    "- `X = np.column_stack((np.ones(len(X)), X))`: X matrisine bir sütun eklenerek sabit terim için bir sütun eklenir. Bu, doğrusal modelin sabit terimini (beta_0 veya intercept) hesaplamak için gereklidir.\n",
    "- `beta = np.linalg.inv(X.T @ X) @ X.T @ Y`: Beta katsayıları, en küçük kareler yöntemini kullanarak hesaplanır. Önce X matrisinin transpozu ile X matrisi çarpılır, ardından bu matrisin tersi alınır. Bu, X matrisinin tersini hesaplamak için gereklidir. Daha sonra bu matris, X matrisinin transpozunun çarpımı ile Y vektörüne çarpılır, bu da beta katsayılarını verir.\n",
    "- `return beta`: Hesaplanan beta katsayıları döndürülür.\n",
    "- `X_dimensional_reduced = X_dimensional_reduced.astype(float)`: DataFrame'deki değerlerin tipi float olarak değiştirilir.\n",
    "- `X_array = X_dimensional_reduced.values`: DataFrame, NumPy dizisine dönüştürülür ve X_array adlı değişkene atanır.\n",
    "- `y_array = y.values`: Hedef değişken de NumPy dizisine dönüştürülür.\n",
    "- `for i, coef in enumerate(beta): print(f'beta_{i} = {coef}')`: Hesaplanan beta katsayıları yazdırılır."
   ]
  },
  {
   "cell_type": "code",
   "execution_count": null,
   "id": "84c25ce9",
   "metadata": {},
   "outputs": [],
   "source": []
  }
 ],
 "metadata": {
  "kernelspec": {
   "display_name": "Python 3 (ipykernel)",
   "language": "python",
   "name": "python3"
  },
  "language_info": {
   "codemirror_mode": {
    "name": "ipython",
    "version": 3
   },
   "file_extension": ".py",
   "mimetype": "text/x-python",
   "name": "python",
   "nbconvert_exporter": "python",
   "pygments_lexer": "ipython3",
   "version": "3.9.7"
  }
 },
 "nbformat": 4,
 "nbformat_minor": 5
}
