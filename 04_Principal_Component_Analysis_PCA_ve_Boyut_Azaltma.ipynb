{
 "cells": [
  {
   "cell_type": "markdown",
   "id": "fbf20703",
   "metadata": {},
   "source": [
    "### PCA Yöntemi ile Boyut Azaltma Adımları\n",
    "\n",
    "**1. Veri Setinin Standartlaştırılması:**\n",
    "   - Veri setindeki tüm değişkenlerin ortalamasını sıfır yaparak ve standart sapmasını bir birim yaparak veriyi standartlaştırma adımıdır.\n",
    "\n",
    "**2. Kovaryans Matrisinin Hesaplanması:**\n",
    "   - Standartlaştırılmış veri üzerinden değişkenler arasındaki kovaryansı gösteren matrisin oluşturulmasıdır.\n",
    "\n",
    "**3. Kovaryans Matrisinin Özdeğer ve Özvektörlerinin Bulunması:**\n",
    "   - Kovaryans matrisinin özdeğerlerini ve bu özdeğerlere karşılık gelen özvektörlerini hesaplayarak değişkenlerin temel özelliklerini belirleriz.\n",
    "\n",
    "**4. Özdeğerlerin Sıralanması ve Özvektörlerin Seçimi:**\n",
    "   - Özdeğerler büyüklüklerine göre sıralanır ve istenilen boyutta (yeni boyut) en büyük özdeğerlere karşılık gelen özvektörler seçilir.\n",
    "\n",
    "**5. Yeni Değişken Matrisinin Oluşturulması:**\n",
    "   - Seçilen özvektörler yardımıyla orijinal veri setini yeni boyutlarda temsil eden bir matris oluşturulur.\n",
    "\n",
    "**6. Boyut Azaltma ve Yeni Veri Setinin Oluşturulması:**\n",
    "   - Önceki adımlarda elde edilen özvektörler kullanılarak orijinal veri seti yeni boyutlara indirgenir."
   ]
  },
  {
   "cell_type": "code",
   "execution_count": 1,
   "id": "3ed92284",
   "metadata": {},
   "outputs": [],
   "source": [
    "import numpy as np"
   ]
  },
  {
   "cell_type": "code",
   "execution_count": 2,
   "id": "f728902c",
   "metadata": {},
   "outputs": [],
   "source": [
    "np.random.seed(42)\n",
    "\n",
    "# Veri Seti Oluşturma\n",
    "data = {'X1': np.random.rand(100),\n",
    "       'X2': np.random.rand(100),\n",
    "       'X3': np.random.rand(100),\n",
    "       'X4': np.random.rand(100),\n",
    "       'X5': np.random.rand(100),\n",
    "       'Y': np.random.rand(100)}"
   ]
  },
  {
   "cell_type": "code",
   "execution_count": 3,
   "id": "c5e48871",
   "metadata": {},
   "outputs": [],
   "source": [
    "import pandas as pd"
   ]
  },
  {
   "cell_type": "code",
   "execution_count": 4,
   "id": "1b16e91d",
   "metadata": {},
   "outputs": [],
   "source": [
    "# Veri Setini Pandas DataFrame Yapısına Dönüştürme\n",
    "df = pd.DataFrame(data)"
   ]
  },
  {
   "cell_type": "code",
   "execution_count": 5,
   "id": "1be88ead",
   "metadata": {},
   "outputs": [],
   "source": [
    "# 1. Veri Setinin Standartlaştırılması\n",
    "for column in df.columns[:-1]:  # 'Y' bağımlı değişken hariç\n",
    "    mean_value = np.mean(df[column])\n",
    "    std_dev = np.std(df[column])\n",
    "    df[column] = (df[column] - mean_value) / std_dev"
   ]
  },
  {
   "cell_type": "code",
   "execution_count": 7,
   "id": "03028a41",
   "metadata": {},
   "outputs": [],
   "source": [
    "# Standartlaştırılmış Veri Setindeki Bağımsız Değişkenler Matrisi\n",
    "X = df.drop('Y', axis = 1)"
   ]
  },
  {
   "cell_type": "code",
   "execution_count": 8,
   "id": "9c3c022e",
   "metadata": {},
   "outputs": [],
   "source": [
    "# 2. Kovaryans Matrisinin Hesaplanması\n",
    "# COV = (X^T . X) / n\n",
    "\n",
    "Cov = (X.T @ X) / len(X)"
   ]
  },
  {
   "cell_type": "code",
   "execution_count": 9,
   "id": "0589fdc3",
   "metadata": {},
   "outputs": [],
   "source": [
    "# 3. Kovaryans Matrisinin Özdeğer(Eigenvalue) ve Özvektörlerinin(Eigenvector) Bulunması\n",
    "ozdegerler, ozvektorler = np.linalg.eig(Cov)"
   ]
  },
  {
   "cell_type": "code",
   "execution_count": 10,
   "id": "9f248b7c",
   "metadata": {},
   "outputs": [],
   "source": [
    "# 4. Özdeğerlerin(Eigenvalue) Sıralanması ve Özvektörlerin(Eigenvector) Seçilmesi\n",
    "sirali_indexler = np.argsort(ozdegerler)[::-1] # Özdeğerlerin Indexlerinin Büyükten Küçüğe Sıralanması\n",
    "sirali_ozdegerler = ozdegerler[sirali_indexler] # Özdeğerlerin Büyükten Küçüğe Sıralanması (fancy index)\n",
    "sirali_vektorler = ozvektorler[sirali_indexler] # Özvektörlerin Büyükten Küçüğe Sıralanması (fancy index)"
   ]
  },
  {
   "cell_type": "code",
   "execution_count": 11,
   "id": "0a2b0bab",
   "metadata": {},
   "outputs": [],
   "source": [
    "# İstenilen Boyutta Principal Componentların Seçilmesi\n",
    "yeni_boyut = 2\n",
    "principal_components = sirali_vektorler[: yeni_boyut]"
   ]
  },
  {
   "cell_type": "code",
   "execution_count": 12,
   "id": "1fc941b1",
   "metadata": {},
   "outputs": [],
   "source": [
    "# 5. Yeni Değişken Matrisinin Oluşturulması\n",
    "X_yeni = X @ principal_components.T"
   ]
  },
  {
   "cell_type": "code",
   "execution_count": 13,
   "id": "c5b9b6ef",
   "metadata": {},
   "outputs": [],
   "source": [
    "# 6. Boyut İndirgenmiş Veri Setinin Oluşturulması\n",
    "df_boyut_indirgenmis = pd.concat([X_yeni, df['Y']], axis=1, ignore_index=True)"
   ]
  },
  {
   "cell_type": "code",
   "execution_count": 21,
   "id": "a02f1ebf",
   "metadata": {},
   "outputs": [
    {
     "data": {
      "text/html": [
       "<div>\n",
       "<style scoped>\n",
       "    .dataframe tbody tr th:only-of-type {\n",
       "        vertical-align: middle;\n",
       "    }\n",
       "\n",
       "    .dataframe tbody tr th {\n",
       "        vertical-align: top;\n",
       "    }\n",
       "\n",
       "    .dataframe thead th {\n",
       "        text-align: right;\n",
       "    }\n",
       "</style>\n",
       "<table border=\"1\" class=\"dataframe\">\n",
       "  <thead>\n",
       "    <tr style=\"text-align: right;\">\n",
       "      <th></th>\n",
       "      <th>0</th>\n",
       "      <th>1</th>\n",
       "      <th>2</th>\n",
       "    </tr>\n",
       "  </thead>\n",
       "  <tbody>\n",
       "    <tr>\n",
       "      <th>0</th>\n",
       "      <td>-0.115801</td>\n",
       "      <td>2.087674</td>\n",
       "      <td>0.698162</td>\n",
       "    </tr>\n",
       "    <tr>\n",
       "      <th>1</th>\n",
       "      <td>1.134779</td>\n",
       "      <td>-2.186291</td>\n",
       "      <td>0.536096</td>\n",
       "    </tr>\n",
       "    <tr>\n",
       "      <th>2</th>\n",
       "      <td>1.434576</td>\n",
       "      <td>-0.377020</td>\n",
       "      <td>0.309528</td>\n",
       "    </tr>\n",
       "    <tr>\n",
       "      <th>3</th>\n",
       "      <td>-0.387193</td>\n",
       "      <td>-0.491669</td>\n",
       "      <td>0.813795</td>\n",
       "    </tr>\n",
       "    <tr>\n",
       "      <th>4</th>\n",
       "      <td>-0.885918</td>\n",
       "      <td>0.146332</td>\n",
       "      <td>0.684731</td>\n",
       "    </tr>\n",
       "  </tbody>\n",
       "</table>\n",
       "</div>"
      ],
      "text/plain": [
       "          0         1         2\n",
       "0 -0.115801  2.087674  0.698162\n",
       "1  1.134779 -2.186291  0.536096\n",
       "2  1.434576 -0.377020  0.309528\n",
       "3 -0.387193 -0.491669  0.813795\n",
       "4 -0.885918  0.146332  0.684731"
      ]
     },
     "execution_count": 21,
     "metadata": {},
     "output_type": "execute_result"
    }
   ],
   "source": [
    "df_boyut_indirgenmis.head()"
   ]
  },
  {
   "cell_type": "markdown",
   "id": "16284c4e",
   "metadata": {},
   "source": [
    "**Scikit-learn Kütüphanesindeki PCA ile Boyut Azaltma**"
   ]
  },
  {
   "cell_type": "code",
   "execution_count": 14,
   "id": "27d4ef2b",
   "metadata": {},
   "outputs": [],
   "source": [
    "from sklearn.decomposition import PCA\n",
    "from sklearn.preprocessing import StandardScaler"
   ]
  },
  {
   "cell_type": "code",
   "execution_count": 15,
   "id": "1a4d7527",
   "metadata": {},
   "outputs": [],
   "source": [
    "np.random.seed(42)\n",
    "\n",
    "# Veri Seti Oluşturma\n",
    "data = {'X1': np.random.rand(100),\n",
    "       'X2': np.random.rand(100),\n",
    "       'X3': np.random.rand(100),\n",
    "       'X4': np.random.rand(100),\n",
    "       'X5': np.random.rand(100),\n",
    "       'Y': np.random.rand(100)}\n",
    "\n",
    "# Veri Setini Pandas DataFrame Yapısına Dönüştürme\n",
    "df = pd.DataFrame(data)\n",
    "\n",
    "# Standartlaştırılmış Veri Setindeki Bağımsız Değişkenler Matrisi\n",
    "X = df.drop('Y', axis = 1)"
   ]
  },
  {
   "cell_type": "code",
   "execution_count": 16,
   "id": "076bfd49",
   "metadata": {},
   "outputs": [],
   "source": [
    "# PCA model oluşturma\n",
    "pca = PCA(n_components=2)"
   ]
  },
  {
   "cell_type": "code",
   "execution_count": 17,
   "id": "a7f73046",
   "metadata": {},
   "outputs": [],
   "source": [
    "# Modeli fit etme\n",
    "X_new = pca.fit_transform(X)"
   ]
  },
  {
   "cell_type": "code",
   "execution_count": 19,
   "id": "fa5e8ae1",
   "metadata": {},
   "outputs": [],
   "source": [
    "df_dimensional_reduced = pd.concat([pd.DataFrame(X_new), df['Y']], axis=1, ignore_index=True)"
   ]
  },
  {
   "cell_type": "code",
   "execution_count": 20,
   "id": "86e2b04e",
   "metadata": {},
   "outputs": [
    {
     "data": {
      "text/html": [
       "<div>\n",
       "<style scoped>\n",
       "    .dataframe tbody tr th:only-of-type {\n",
       "        vertical-align: middle;\n",
       "    }\n",
       "\n",
       "    .dataframe tbody tr th {\n",
       "        vertical-align: top;\n",
       "    }\n",
       "\n",
       "    .dataframe thead th {\n",
       "        text-align: right;\n",
       "    }\n",
       "</style>\n",
       "<table border=\"1\" class=\"dataframe\">\n",
       "  <thead>\n",
       "    <tr style=\"text-align: right;\">\n",
       "      <th></th>\n",
       "      <th>0</th>\n",
       "      <th>1</th>\n",
       "      <th>2</th>\n",
       "    </tr>\n",
       "  </thead>\n",
       "  <tbody>\n",
       "    <tr>\n",
       "      <th>0</th>\n",
       "      <td>-0.585185</td>\n",
       "      <td>0.076580</td>\n",
       "      <td>0.698162</td>\n",
       "    </tr>\n",
       "    <tr>\n",
       "      <th>1</th>\n",
       "      <td>0.407338</td>\n",
       "      <td>0.292742</td>\n",
       "      <td>0.536096</td>\n",
       "    </tr>\n",
       "    <tr>\n",
       "      <th>2</th>\n",
       "      <td>0.145770</td>\n",
       "      <td>0.101999</td>\n",
       "      <td>0.309528</td>\n",
       "    </tr>\n",
       "    <tr>\n",
       "      <th>3</th>\n",
       "      <td>0.127105</td>\n",
       "      <td>0.316258</td>\n",
       "      <td>0.813795</td>\n",
       "    </tr>\n",
       "    <tr>\n",
       "      <th>4</th>\n",
       "      <td>0.011463</td>\n",
       "      <td>-0.504780</td>\n",
       "      <td>0.684731</td>\n",
       "    </tr>\n",
       "  </tbody>\n",
       "</table>\n",
       "</div>"
      ],
      "text/plain": [
       "          0         1         2\n",
       "0 -0.585185  0.076580  0.698162\n",
       "1  0.407338  0.292742  0.536096\n",
       "2  0.145770  0.101999  0.309528\n",
       "3  0.127105  0.316258  0.813795\n",
       "4  0.011463 -0.504780  0.684731"
      ]
     },
     "execution_count": 20,
     "metadata": {},
     "output_type": "execute_result"
    }
   ],
   "source": [
    "df_dimensional_reduced.head()"
   ]
  },
  {
   "cell_type": "code",
   "execution_count": null,
   "id": "2b3a5feb",
   "metadata": {},
   "outputs": [],
   "source": []
  }
 ],
 "metadata": {
  "kernelspec": {
   "display_name": "Python 3 (ipykernel)",
   "language": "python",
   "name": "python3"
  },
  "language_info": {
   "codemirror_mode": {
    "name": "ipython",
    "version": 3
   },
   "file_extension": ".py",
   "mimetype": "text/x-python",
   "name": "python",
   "nbconvert_exporter": "python",
   "pygments_lexer": "ipython3",
   "version": "3.11.5"
  }
 },
 "nbformat": 4,
 "nbformat_minor": 5
}
