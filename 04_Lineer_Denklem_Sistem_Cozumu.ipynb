{
 "cells": [
  {
   "cell_type": "markdown",
   "id": "14359d91",
   "metadata": {},
   "source": [
    "## Lineer Denklem Sistemlerinin Çözümü"
   ]
  },
  {
   "cell_type": "markdown",
   "id": "254123e6",
   "metadata": {},
   "source": [
    "**Lineer Denklem Sistemi**\n",
    "\n",
    "$2x_1 + 3x_2 - x_1 = 1$\n",
    "\n",
    "$4x_1 + x_2 + 2x_3 = -2$\n",
    "\n",
    "$-x_1 + 2x_2 + 3x_3 = 3$"
   ]
  },
  {
   "cell_type": "code",
   "execution_count": 1,
   "id": "6a4d1613",
   "metadata": {},
   "outputs": [],
   "source": [
    "import numpy as np"
   ]
  },
  {
   "cell_type": "code",
   "execution_count": 2,
   "id": "47329904",
   "metadata": {},
   "outputs": [],
   "source": [
    "# A = Katsayılar Matrisi\n",
    "A = np.array([[2, 3, -1],\n",
    "             [4, 1, 2],\n",
    "             [-1, 2, 3]])\n",
    "\n",
    "# b = Sabit Terimler Vektörü\n",
    "b = np.array([1, -2, 3])"
   ]
  },
  {
   "cell_type": "markdown",
   "id": "2a81d0ae",
   "metadata": {},
   "source": [
    "$A \\cdot X = b \\implies X = A^{-1} \\cdot b,$ $\\quad X = [x_1, x_2, x_3]$"
   ]
  },
  {
   "cell_type": "code",
   "execution_count": 3,
   "id": "5a48ea4a",
   "metadata": {},
   "outputs": [],
   "source": [
    "# A^(-1) = A matrisinin tersi\n",
    "A_inverse = np.linalg.inv(A)"
   ]
  },
  {
   "cell_type": "code",
   "execution_count": 4,
   "id": "764c7ea4",
   "metadata": {},
   "outputs": [],
   "source": [
    "# X = A^(-1) . b\n",
    "X = np.matmul(A_inverse, b)"
   ]
  },
  {
   "cell_type": "code",
   "execution_count": null,
   "id": "f4d2976e",
   "metadata": {},
   "outputs": [],
   "source": [
    "print('Lineer Denklem Sisteminin Çözümü')\n",
    "print('x1 =', X[0])\n",
    "print('x2 =', X[1])\n",
    "print('x3 =', X[2])"
   ]
  },
  {
   "cell_type": "markdown",
   "id": "9871ba58",
   "metadata": {},
   "source": [
    "**Lineer Denklem Sistem Çözümü için Fonksiyon Oluşturma**"
   ]
  },
  {
   "cell_type": "code",
   "execution_count": 5,
   "id": "4de6433a",
   "metadata": {},
   "outputs": [],
   "source": [
    "def lineer_denklem_sistem_cozumu(katsayilar, sabit_terimler):\n",
    "    try:\n",
    "        A = np.array(katsayilar)\n",
    "        b = np.array(sabit_terimler)\n",
    "        A_inverse = np.linalg.inv(A)\n",
    "        X = np.matmul(A_inverse, b)\n",
    "        return X\n",
    "    except np.linalg.LinAlgError:\n",
    "        return \"Bu Lineer Denklem Sisteminin Çözümü Yoktur.\""
   ]
  },
  {
   "cell_type": "markdown",
   "id": "beb391f8",
   "metadata": {},
   "source": [
    "**Lineer Denklem Sistemi**\n",
    "\n",
    "$2x_1 + 3x_2 - x_1 = 1$\n",
    "\n",
    "$4x_1 + x_2 + 2x_3 = -2$\n",
    "\n",
    "$-x_1 + 2x_2 + 3x_3 = 3$"
   ]
  },
  {
   "cell_type": "code",
   "execution_count": 6,
   "id": "c6497a68",
   "metadata": {},
   "outputs": [],
   "source": [
    "katsayilar = [[2, 3, -1],\n",
    "             [4, 1, 2],\n",
    "             [-1, 2, 3]]\n",
    "\n",
    "sabit_terimler = [1, -2, 3]"
   ]
  },
  {
   "cell_type": "code",
   "execution_count": 7,
   "id": "b2909e7d",
   "metadata": {},
   "outputs": [],
   "source": [
    "X_Cozum = lineer_denklem_sistem_cozumu(katsayilar, sabit_terimler)"
   ]
  },
  {
   "cell_type": "code",
   "execution_count": null,
   "id": "38d2ed68",
   "metadata": {},
   "outputs": [],
   "source": [
    "print('Lineer Denklem Sisteminin Çözümü')\n",
    "print('x1 =', X_Cozum[0])\n",
    "print('x2 =', X_Cozum[1])\n",
    "print('x3 =', X_Cozum[2])"
   ]
  },
  {
   "cell_type": "markdown",
   "id": "d4e5cc46",
   "metadata": {},
   "source": [
    "**NumPy Kütüphanesi ile Lineer Denklem Sistemi Çözümü**"
   ]
  },
  {
   "cell_type": "markdown",
   "id": "adb84ca5",
   "metadata": {},
   "source": [
    "**Lineer Denklem Sistemi**\n",
    "\n",
    "$2x_1 + 3x_2 - x_1 = 1$\n",
    "\n",
    "$4x_1 + x_2 + 2x_3 = -2$\n",
    "\n",
    "$-x_1 + 2x_2 + 3x_3 = 3$"
   ]
  },
  {
   "cell_type": "code",
   "execution_count": 8,
   "id": "de165b97",
   "metadata": {},
   "outputs": [],
   "source": [
    "# A = Katsayılar Matrisi\n",
    "A = np.array([[2, 3, -1],\n",
    "             [4, 1, 2],\n",
    "             [-1, 2, 3]])\n",
    "\n",
    "# b = Sabit Terimler Vektörü\n",
    "b = np.array([1, -2, 3])\n",
    "\n",
    "# X = Çözüm Vektörü\n",
    "X = np.linalg.solve(A, b)"
   ]
  },
  {
   "cell_type": "code",
   "execution_count": null,
   "id": "f9d9102c",
   "metadata": {},
   "outputs": [],
   "source": [
    "print('Lineer Denklem Sisteminin Çözümü')\n",
    "print('x1 =', X[0])\n",
    "print('x2 =', X[1])\n",
    "print('x3 =', X[2])"
   ]
  }
 ],
 "metadata": {
  "kernelspec": {
   "display_name": "Python 3 (ipykernel)",
   "language": "python",
   "name": "python3"
  },
  "language_info": {
   "codemirror_mode": {
    "name": "ipython",
    "version": 3
   },
   "file_extension": ".py",
   "mimetype": "text/x-python",
   "name": "python",
   "nbconvert_exporter": "python",
   "pygments_lexer": "ipython3",
   "version": "3.11.5"
  }
 },
 "nbformat": 4,
 "nbformat_minor": 5
}
