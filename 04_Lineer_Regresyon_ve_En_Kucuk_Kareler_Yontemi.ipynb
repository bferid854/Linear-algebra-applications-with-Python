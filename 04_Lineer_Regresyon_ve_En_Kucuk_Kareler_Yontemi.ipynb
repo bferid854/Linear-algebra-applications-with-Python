{
 "cells": [
  {
   "cell_type": "markdown",
   "id": "c0f8f270",
   "metadata": {},
   "source": [
    "### En Küçük Kareler Yöntemi (Least Square Method) ile Lineer Regresyon Katsayılarının Hesaplanması"
   ]
  },
  {
   "cell_type": "markdown",
   "id": "197446c6",
   "metadata": {},
   "source": [
    "**Tek Değişkenli (Simple) Lineer Regresyon Katsayılarının Hesaplanması**\n",
    "\n",
    "Tek değişkenli (simple) lineer regresyon, veri setindeki $n$ adet gözlem için, $x$(bağımsız değişken) ve $y$(bağımlı değişken) değerleri arasındaki doğrusal ilişkiyi ifade eden modeldir:\n",
    "\n",
    "$$\n",
    "y_i = mx_i + c + \\varepsilon_i\n",
    "$$\n",
    "\n",
    "Burada:\n",
    "- $x_i$ ve $y_i$, sırasıyla bağımsız ve bağımlı değişkenin $i$.nci gözlem değerleridir.\n",
    "\n",
    "- $m$, eğimi temsil eder (regresyon katsayısı).\n",
    "\n",
    "- $c$, kesme terimini (y-intercept) temsil eder.\n",
    "\n",
    "- $\\varepsilon_i$, hata terimidir.\n",
    "\n",
    "En küçük kareler yöntemi, bu hataları minimize ederek, veri setindeki gözlemler ile model arasındaki farkları en aza indirmeyi amaçlar. Bu yöntemle $m$ ve $c$ katsayıları şu şekilde hesaplanır:\n",
    "\n",
    "$$\n",
    "m = \\frac{{n \\sum{(x_iy_i)} - \\sum{x_i} \\cdot \\sum{y_i}}}{{n \\sum{(x_i^2)} - (\\sum{x_i})^2}}\n",
    "$$\n",
    "\n",
    "$$\n",
    "c = \\frac{{\\sum{y_i} - m \\cdot \\sum{x_i}}}{{n}}\n",
    "$$"
   ]
  },
  {
   "cell_type": "markdown",
   "id": "8f0dfff9",
   "metadata": {},
   "source": [
    "**Çok Değişkenli (Multiple) Lineer Regresyon Katsayılarının Hesaplanması**\n",
    "\n",
    "Çok değişkenli (multiple) lineer regresyon, veri setindeki $n$ adet gözlem için, $X_1, X_2, \\cdots, X_p$ (bağımsız değişkenler) ve $Y$ (bağımlı değişken) değerleri arasındaki doğrusal ilişkiyi ifade eden modeldir:\n",
    "\n",
    "$$\n",
    "Y = \\beta_0 + \\beta_1X_1 + \\beta_2X_2 + \\dots + \\beta_pX_p + \\varepsilon\n",
    "$$\n",
    "\n",
    "Burada:\n",
    "- $Y$, bağımlı değişkeni temsil eder.\n",
    "\n",
    "- $X_1, X_2, \\cdots, X_p$,  $p$ adet bağımsız değişkenleri ifade eder.\n",
    "\n",
    "- $\\beta_0$, kesme (intercept) terimini temsil eder.\n",
    "\n",
    "- $\\beta_1, \\beta_2, \\dots, \\beta_p$, her bir bağımsız değişkenin regresyon katsayılarını temsil eder.\n",
    "\n",
    "- $\\varepsilon$, hata terimidir.\n",
    "\n",
    "Regresyon katsayıları \\( \\beta_0, \\beta_1, \\dots, \\beta_p \\) değerleri, en küçük kareler yöntemi kullanılarak şu şekilde hesaplanır:\n",
    "\n",
    "$$\n",
    "\\mathbf{\\beta} = (X^T X)^{-1} X^T Y\n",
    "$$\n",
    "\n",
    "Burada:\n",
    "- $\\mathbf{\\beta}$, regresyon katsayılarını içeren vektördür.\n",
    "- $X$, bağımsız değişkenlerin değerlerini içeren matristir \n",
    "- $Y$, bağımlı değişkenin değerlerini içeren vektördür."
   ]
  },
  {
   "cell_type": "code",
   "execution_count": 1,
   "id": "827e5ecc",
   "metadata": {},
   "outputs": [],
   "source": [
    "import numpy as np"
   ]
  },
  {
   "cell_type": "code",
   "execution_count": 2,
   "id": "a4cf6d21",
   "metadata": {},
   "outputs": [],
   "source": [
    "np.random.seed(42)\n",
    "\n",
    "# Veri Seti Oluşturma\n",
    "data = {'X1': np.random.rand(100),\n",
    "       'X2': np.random.rand(100),\n",
    "       'X3': np.random.rand(100),\n",
    "       'Y': np.random.rand(100)}"
   ]
  },
  {
   "cell_type": "code",
   "execution_count": 3,
   "id": "1fad78ca",
   "metadata": {},
   "outputs": [],
   "source": [
    "# X = Bağımsız Değişkenler Matrisi\n",
    "X = np.column_stack((data['X1'], data['X2'], data['X3']))\n",
    "\n",
    "# Y = Bağımlı Değişken Vektörü\n",
    "Y = data['Y']"
   ]
  },
  {
   "cell_type": "markdown",
   "id": "924c5332",
   "metadata": {},
   "source": [
    "$\\mathbf{\\beta} = (X^T X)^{-1} X^T Y$, $\\quad = \\beta = [\\beta_0, \\beta_1, \\beta_2, \\beta_3]$"
   ]
  },
  {
   "cell_type": "code",
   "execution_count": 4,
   "id": "fed70412",
   "metadata": {},
   "outputs": [],
   "source": [
    "# ÖNEMLİ: beta_0 (Sabit Terim) hesaplamak için X maatrisine bir sütun eklemek gerekmektedir.\n",
    "X = np.column_stack((np.ones(len(X)), X))"
   ]
  },
  {
   "cell_type": "code",
   "execution_count": 5,
   "id": "54848e0a",
   "metadata": {},
   "outputs": [],
   "source": [
    "# beta = (X^T . X)^(-1) . X^T . Y\n",
    "\n",
    "beta = np.linalg.inv(X.T @ X) @ X.T @ Y"
   ]
  },
  {
   "cell_type": "code",
   "execution_count": null,
   "id": "007062e6",
   "metadata": {},
   "outputs": [],
   "source": [
    "print(\"Çok Değişkenli (Multiple) Lineer Regresyon Katsayıları\")\n",
    "print(\"beta_0 (sabit terim)=\", beta[0]),\n",
    "print(\"beta_1 =\", beta[1]),\n",
    "print(\"beta_2 =\", beta[2]),\n",
    "print(\"beta_3 =\", beta[3])"
   ]
  },
  {
   "cell_type": "markdown",
   "id": "95ebe337",
   "metadata": {},
   "source": [
    "**Çok Değişkenli (Multiple) Lineer Regresyon Katsayılarını En Küçük Kareler Yöntemi ile Bulan Bir Fonskiyon Oluşturma**"
   ]
  },
  {
   "cell_type": "code",
   "execution_count": 6,
   "id": "797e1d08",
   "metadata": {},
   "outputs": [],
   "source": [
    "def en_kucuk_kareler_yontemi(X, Y):\n",
    "    X = np.column_stack((np.ones(len(X)), X))\n",
    "    beta = np.linalg.inv(X.T @ X) @ X.T @ Y\n",
    "    return beta"
   ]
  },
  {
   "cell_type": "code",
   "execution_count": 7,
   "id": "c04ccf65",
   "metadata": {},
   "outputs": [],
   "source": [
    "np.random.seed(42)\n",
    "\n",
    "# Veri Seti Oluşturma\n",
    "data = {'X1': np.random.rand(100),\n",
    "       'X2': np.random.rand(100),\n",
    "       'X3': np.random.rand(100),\n",
    "       'Y': np.random.rand(100)}\n",
    "\n",
    "# X = Bağımsız Değişkenler Matrisi\n",
    "X = np.column_stack((data['X1'], data['X2'], data['X3']))\n",
    "\n",
    "# Y = Bağımlı Değişken Vektörü\n",
    "Y = data['Y']"
   ]
  },
  {
   "cell_type": "code",
   "execution_count": 8,
   "id": "8e11c760",
   "metadata": {},
   "outputs": [],
   "source": [
    "beta = en_kucuk_kareler_yontemi(X, Y)"
   ]
  },
  {
   "cell_type": "code",
   "execution_count": null,
   "id": "76e52ddc",
   "metadata": {},
   "outputs": [],
   "source": [
    "print(\"Çok Değişkenli (Multiple) Lineer Regresyon Katsayıları\")\n",
    "print(\"beta_0 (sabit terim)=\", beta[0]),\n",
    "print(\"beta_1 =\", beta[1]),\n",
    "print(\"beta_2 =\", beta[2]),\n",
    "print(\"beta_3 =\", beta[3])"
   ]
  },
  {
   "cell_type": "markdown",
   "id": "8e3d69cb",
   "metadata": {},
   "source": [
    "**Scikit-learn Kütüphanesi ile Lineer Regresyon Katsayılarını Hesaplama**"
   ]
  },
  {
   "cell_type": "code",
   "execution_count": 9,
   "id": "434beb1a",
   "metadata": {},
   "outputs": [],
   "source": [
    "import pandas as pd\n",
    "from sklearn.linear_model import LinearRegression"
   ]
  },
  {
   "cell_type": "code",
   "execution_count": 10,
   "id": "bae018eb",
   "metadata": {},
   "outputs": [],
   "source": [
    "np.random.seed(42)\n",
    "\n",
    "# Veri Seti Oluşturma\n",
    "data = {'X1': np.random.rand(100),\n",
    "       'X2': np.random.rand(100),\n",
    "       'X3': np.random.rand(100),\n",
    "       'Y': np.random.rand(100)}\n",
    "\n",
    "# Panda DataFrame Tipine Dönüştürme\n",
    "df = pd.DataFrame(data)\n",
    "\n",
    "# X = Bağımsız Değişkenler Matrisi\n",
    "X = df[['X1', 'X2', 'X3']]\n",
    "\n",
    "# Y = Bağımlı Değişken Vektörü\n",
    "Y = df['Y']"
   ]
  },
  {
   "cell_type": "code",
   "execution_count": 11,
   "id": "558e2f51",
   "metadata": {},
   "outputs": [],
   "source": [
    "# Lineer Regresyon Modeli Oluşturma\n",
    "model = LinearRegression()"
   ]
  },
  {
   "cell_type": "code",
   "execution_count": 12,
   "id": "a3bb6fa2",
   "metadata": {},
   "outputs": [
    {
     "data": {
      "text/html": [
       "<style>#sk-container-id-1 {color: black;}#sk-container-id-1 pre{padding: 0;}#sk-container-id-1 div.sk-toggleable {background-color: white;}#sk-container-id-1 label.sk-toggleable__label {cursor: pointer;display: block;width: 100%;margin-bottom: 0;padding: 0.3em;box-sizing: border-box;text-align: center;}#sk-container-id-1 label.sk-toggleable__label-arrow:before {content: \"▸\";float: left;margin-right: 0.25em;color: #696969;}#sk-container-id-1 label.sk-toggleable__label-arrow:hover:before {color: black;}#sk-container-id-1 div.sk-estimator:hover label.sk-toggleable__label-arrow:before {color: black;}#sk-container-id-1 div.sk-toggleable__content {max-height: 0;max-width: 0;overflow: hidden;text-align: left;background-color: #f0f8ff;}#sk-container-id-1 div.sk-toggleable__content pre {margin: 0.2em;color: black;border-radius: 0.25em;background-color: #f0f8ff;}#sk-container-id-1 input.sk-toggleable__control:checked~div.sk-toggleable__content {max-height: 200px;max-width: 100%;overflow: auto;}#sk-container-id-1 input.sk-toggleable__control:checked~label.sk-toggleable__label-arrow:before {content: \"▾\";}#sk-container-id-1 div.sk-estimator input.sk-toggleable__control:checked~label.sk-toggleable__label {background-color: #d4ebff;}#sk-container-id-1 div.sk-label input.sk-toggleable__control:checked~label.sk-toggleable__label {background-color: #d4ebff;}#sk-container-id-1 input.sk-hidden--visually {border: 0;clip: rect(1px 1px 1px 1px);clip: rect(1px, 1px, 1px, 1px);height: 1px;margin: -1px;overflow: hidden;padding: 0;position: absolute;width: 1px;}#sk-container-id-1 div.sk-estimator {font-family: monospace;background-color: #f0f8ff;border: 1px dotted black;border-radius: 0.25em;box-sizing: border-box;margin-bottom: 0.5em;}#sk-container-id-1 div.sk-estimator:hover {background-color: #d4ebff;}#sk-container-id-1 div.sk-parallel-item::after {content: \"\";width: 100%;border-bottom: 1px solid gray;flex-grow: 1;}#sk-container-id-1 div.sk-label:hover label.sk-toggleable__label {background-color: #d4ebff;}#sk-container-id-1 div.sk-serial::before {content: \"\";position: absolute;border-left: 1px solid gray;box-sizing: border-box;top: 0;bottom: 0;left: 50%;z-index: 0;}#sk-container-id-1 div.sk-serial {display: flex;flex-direction: column;align-items: center;background-color: white;padding-right: 0.2em;padding-left: 0.2em;position: relative;}#sk-container-id-1 div.sk-item {position: relative;z-index: 1;}#sk-container-id-1 div.sk-parallel {display: flex;align-items: stretch;justify-content: center;background-color: white;position: relative;}#sk-container-id-1 div.sk-item::before, #sk-container-id-1 div.sk-parallel-item::before {content: \"\";position: absolute;border-left: 1px solid gray;box-sizing: border-box;top: 0;bottom: 0;left: 50%;z-index: -1;}#sk-container-id-1 div.sk-parallel-item {display: flex;flex-direction: column;z-index: 1;position: relative;background-color: white;}#sk-container-id-1 div.sk-parallel-item:first-child::after {align-self: flex-end;width: 50%;}#sk-container-id-1 div.sk-parallel-item:last-child::after {align-self: flex-start;width: 50%;}#sk-container-id-1 div.sk-parallel-item:only-child::after {width: 0;}#sk-container-id-1 div.sk-dashed-wrapped {border: 1px dashed gray;margin: 0 0.4em 0.5em 0.4em;box-sizing: border-box;padding-bottom: 0.4em;background-color: white;}#sk-container-id-1 div.sk-label label {font-family: monospace;font-weight: bold;display: inline-block;line-height: 1.2em;}#sk-container-id-1 div.sk-label-container {text-align: center;}#sk-container-id-1 div.sk-container {/* jupyter's `normalize.less` sets `[hidden] { display: none; }` but bootstrap.min.css set `[hidden] { display: none !important; }` so we also need the `!important` here to be able to override the default hidden behavior on the sphinx rendered scikit-learn.org. See: https://github.com/scikit-learn/scikit-learn/issues/21755 */display: inline-block !important;position: relative;}#sk-container-id-1 div.sk-text-repr-fallback {display: none;}</style><div id=\"sk-container-id-1\" class=\"sk-top-container\"><div class=\"sk-text-repr-fallback\"><pre>LinearRegression()</pre><b>In a Jupyter environment, please rerun this cell to show the HTML representation or trust the notebook. <br />On GitHub, the HTML representation is unable to render, please try loading this page with nbviewer.org.</b></div><div class=\"sk-container\" hidden><div class=\"sk-item\"><div class=\"sk-estimator sk-toggleable\"><input class=\"sk-toggleable__control sk-hidden--visually\" id=\"sk-estimator-id-1\" type=\"checkbox\" checked><label for=\"sk-estimator-id-1\" class=\"sk-toggleable__label sk-toggleable__label-arrow\">LinearRegression</label><div class=\"sk-toggleable__content\"><pre>LinearRegression()</pre></div></div></div></div></div>"
      ],
      "text/plain": [
       "LinearRegression()"
      ]
     },
     "execution_count": 12,
     "metadata": {},
     "output_type": "execute_result"
    }
   ],
   "source": [
    "# Modeli fit Etme\n",
    "model.fit(X, Y)"
   ]
  },
  {
   "cell_type": "code",
   "execution_count": null,
   "id": "c28e2a87",
   "metadata": {},
   "outputs": [],
   "source": [
    "# beta_0 = intecept \n",
    "print('beta_0 =', model.intercept_)\n",
    "\n",
    "# beta_1,2,3 = coefficients\n",
    "print('beta_1 =', model.coef_[0])\n",
    "print('beta_2 =', model.coef_[1])\n",
    "print('beta_3 =', model.coef_[2])"
   ]
  }
 ],
 "metadata": {
  "kernelspec": {
   "display_name": "Python 3 (ipykernel)",
   "language": "python",
   "name": "python3"
  },
  "language_info": {
   "codemirror_mode": {
    "name": "ipython",
    "version": 3
   },
   "file_extension": ".py",
   "mimetype": "text/x-python",
   "name": "python",
   "nbconvert_exporter": "python",
   "pygments_lexer": "ipython3",
   "version": "3.11.5"
  }
 },
 "nbformat": 4,
 "nbformat_minor": 5
}
